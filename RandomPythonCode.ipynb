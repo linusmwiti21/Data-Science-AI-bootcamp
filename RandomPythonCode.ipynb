{
 "cells": [
  {
   "cell_type": "code",
   "execution_count": 2,
   "id": "5770a040",
   "metadata": {},
   "outputs": [],
   "source": [
    "x=9\n",
    "y=8\n",
    "z=x+y"
   ]
  },
  {
   "cell_type": "code",
   "execution_count": 3,
   "id": "bad78cb4",
   "metadata": {},
   "outputs": [
    {
     "name": "stdout",
     "output_type": "stream",
     "text": [
      "17\n"
     ]
    }
   ],
   "source": [
    "print(z)"
   ]
  },
  {
   "cell_type": "code",
   "execution_count": 1,
   "id": "c7ad4bd5",
   "metadata": {},
   "outputs": [
    {
     "ename": "TypeError",
     "evalue": "type 'range' is not subscriptable",
     "output_type": "error",
     "traceback": [
      "\u001b[1;31m---------------------------------------------------------------------------\u001b[0m",
      "\u001b[1;31mTypeError\u001b[0m                                 Traceback (most recent call last)",
      "Cell \u001b[1;32mIn[1], line 3\u001b[0m\n\u001b[0;32m      1\u001b[0m student \u001b[38;5;241m=\u001b[39m [\u001b[38;5;124m'\u001b[39m\u001b[38;5;124mjohn\u001b[39m\u001b[38;5;124m'\u001b[39m, \u001b[38;5;124m'\u001b[39m\u001b[38;5;124mdan\u001b[39m\u001b[38;5;124m'\u001b[39m, \u001b[38;5;124m'\u001b[39m\u001b[38;5;124mjames\u001b[39m\u001b[38;5;124m'\u001b[39m, \u001b[38;5;124m'\u001b[39m\u001b[38;5;124mpauline\u001b[39m\u001b[38;5;124m'\u001b[39m]\n\u001b[1;32m----> 3\u001b[0m \u001b[38;5;28;01mfor\u001b[39;00m i \u001b[38;5;129;01min\u001b[39;00m \u001b[38;5;28mrange\u001b[39m[\u001b[38;5;241m1\u001b[39m]:\n\u001b[0;32m      4\u001b[0m     \u001b[38;5;28mprint\u001b[39m(i)\n",
      "\u001b[1;31mTypeError\u001b[0m: type 'range' is not subscriptable"
     ]
    }
   ],
   "source": [
    "students = ['john', 'dan', 'james', 'pauline']\n",
    "\n",
    "for i in range[1]:\n",
    "    print(i)"
   ]
  },
  {
   "cell_type": "code",
   "execution_count": 7,
   "id": "470236bd",
   "metadata": {},
   "outputs": [
    {
     "name": "stdout",
     "output_type": "stream",
     "text": [
      "john\n",
      "dan\n",
      "linus\n"
     ]
    }
   ],
   "source": [
    "students = ['john', 'ian', 'dan', 'linus']\n",
    "\n",
    "for i in students:\n",
    "    if i == 'ian':\n",
    "        continue\n",
    "    print(i)\n",
    "\n",
    "    "
   ]
  },
  {
   "cell_type": "code",
   "execution_count": 18,
   "id": "b6711315",
   "metadata": {},
   "outputs": [
    {
     "name": "stdout",
     "output_type": "stream",
     "text": [
      "Canada\n",
      "USA\n",
      "Kenya\n",
      "UK\n",
      "Izrael\n"
     ]
    }
   ],
   "source": [
    "countries =['canada', 'usa', 'kenya', 'uk', 'izrael']\n",
    "\n",
    "for country in countries:\n",
    "    if country == 'usa' or country == 'uk':\n",
    "        print(country.upper())\n",
    "        \n",
    "    else:\n",
    "        print(country.title())"
   ]
  },
  {
   "cell_type": "code",
   "execution_count": 20,
   "id": "46f10407",
   "metadata": {},
   "outputs": [
    {
     "name": "stdout",
     "output_type": "stream",
     "text": [
      "This is my Porsche.\n"
     ]
    }
   ],
   "source": [
    "def Car(name):\n",
    "    print(\"This is my \" + name + \".\")\n",
    "    \n",
    "Car(\"Porsche\")\n"
   ]
  },
  {
   "cell_type": "code",
   "execution_count": 10,
   "id": "8666b6dd",
   "metadata": {},
   "outputs": [
    {
     "name": "stdout",
     "output_type": "stream",
     "text": [
      "This white Mercedes Benz E200 is being driven by Mr Lino!\n"
     ]
    }
   ],
   "source": [
    "class Car:\n",
    "    def __init__(self, color, brand, model):\n",
    "        self.color = color\n",
    "        self.brand = brand\n",
    "        self.model = model\n",
    "        \n",
    "    def drive(self):\n",
    "        print(f\"This {self.color} {self.brand} {self.model} is being driven by Mr Lino!\")\n",
    "        \n",
    "car = Car('white', 'Mercedes Benz', 'E200')\n",
    "car.drive()\n",
    "    "
   ]
  },
  {
   "cell_type": "code",
   "execution_count": 11,
   "id": "b622c897",
   "metadata": {},
   "outputs": [
    {
     "name": "stdout",
     "output_type": "stream",
     "text": [
      "My name is Mwiti and I am 21 years old.\n"
     ]
    }
   ],
   "source": [
    "class Person:\n",
    "     def __init__(self, name, age,):\n",
    "        self.name = name\n",
    "        self.age = age\n",
    "        \n",
    "    def info(self):\n",
    "        print(f\"My name is {self.name} and I am {self.age} years old.\")\n",
    "        \n",
    "person =  Person('Mwiti', 21)\n",
    "person.info()"
   ]
  },
  {
   "cell_type": "code",
   "execution_count": 22,
   "id": "a2b5854e",
   "metadata": {},
   "outputs": [
    {
     "name": "stdout",
     "output_type": "stream",
     "text": [
      "Ankole\n"
     ]
    }
   ],
   "source": [
    "class Cows:\n",
    "    def __init__(self, breed, age, country):\n",
    "        self.breed = breed\n",
    "        self.age = age\n",
    "        self.country = country\n",
    "    \n",
    "class Africa_Cows(Cows):\n",
    "    pass\n",
    "\n",
    "my_cows2 = Africa_Cows(\"Ankole\", 12, \"UG\")\n",
    "print(my_cows2.breed)"
   ]
  },
  {
   "cell_type": "code",
   "execution_count": 35,
   "id": "099c0a29",
   "metadata": {},
   "outputs": [],
   "source": [
    "class Person:\n",
    "    def __init__(self, name, ID_no):\n",
    "        self.name = name\n",
    "        self.ID_no = ID_no\n",
    "        \n",
    "    def display(self):\n",
    "        print(self.name)\n",
    "        print(self.ID_o)\n",
    "        \n",
    "    def details(self):\n",
    "        print(\"My name is \",self.name)\n",
    "        \n",
    "    class emp(Person):\n",
    "        def __init__(self, name, ID_no, salary, post):\n",
    "            self.salary = salary\n",
    "            self.post = post\n",
    "            person. __init__(self, name, ID_no)\n",
    "        def details(self):\n",
    "            \n",
    "            print(\"My name is \", self.name)\n",
    "            print(\"My post is \", self.spot)\n",
    "        \n",
    "    \n",
    "    "
   ]
  },
  {
   "cell_type": "code",
   "execution_count": 69,
   "id": "2fd273ad",
   "metadata": {},
   "outputs": [
    {
     "name": "stdout",
     "output_type": "stream",
     "text": [
      "This chapati is sweet.\n"
     ]
    }
   ],
   "source": [
    "class Food:\n",
    "    def __init__(self, name, taste):\n",
    "        self.name = name\n",
    "        self.taste = taste \n",
    "        \n",
    "    def describe(self):\n",
    "        print(f\"This {self.name} is {self.taste}.\") \n",
    "        \n",
    "chapati = Food('chapati', 'sweet')\n",
    "chapati.describe()\n"
   ]
  },
  {
   "cell_type": "code",
   "execution_count": 43,
   "id": "bd7e1336",
   "metadata": {},
   "outputs": [
    {
     "data": {
      "text/plain": [
       "True"
      ]
     },
     "execution_count": 43,
     "metadata": {},
     "output_type": "execute_result"
    }
   ],
   "source": [
    "class Vehicle:\n",
    "    pass\n",
    "\n",
    "class Car(Vehicle):\n",
    "    pass\n",
    "\n",
    "issubclass(Car, Vehicle)"
   ]
  },
  {
   "cell_type": "code",
   "execution_count": 45,
   "id": "aeba81f0",
   "metadata": {},
   "outputs": [
    {
     "name": "stdout",
     "output_type": "stream",
     "text": [
      "This lion is roaring.\n",
      "This animal is speaking.\n"
     ]
    }
   ],
   "source": [
    "#single inheitance\n",
    "class Animal:\n",
    "    def speak(self):\n",
    "        print(\"This animal is speaking.\")\n",
    "        pass\n",
    "    \n",
    "class Lion(Animal):\n",
    "    def roar(speak):\n",
    "        print(\"This lion is roaring.\")\n",
    "        \n",
    "d = Lion()\n",
    "d.roar()\n",
    "d.speak()"
   ]
  },
  {
   "cell_type": "code",
   "execution_count": 62,
   "id": "8a337939",
   "metadata": {},
   "outputs": [
    {
     "name": "stdout",
     "output_type": "stream",
     "text": [
      "6\n",
      "8\n",
      "0.5\n"
     ]
    }
   ],
   "source": [
    "class Calculation1:\n",
    "    def Addition(self, x, y):\n",
    "        return x + y;\n",
    "    \n",
    "class Calculation2:\n",
    "    def Multiplication(self, x, y):\n",
    "        return x * y;\n",
    "    \n",
    "class Derived(Calculation1, Calculation2):\n",
    "    def Division(self, a, b):\n",
    "        return a / b;\n",
    "        \n",
    "d = Derived()\n",
    "print(d.Addition(2,4))\n",
    "print(d.Multiplication(2,4))\n",
    "print(d.Division(2,4))"
   ]
  },
  {
   "cell_type": "code",
   "execution_count": 65,
   "id": "0e40c475",
   "metadata": {},
   "outputs": [
    {
     "name": "stdout",
     "output_type": "stream",
     "text": [
      "Animal speaking\n",
      "Lion is roaring\n",
      "Eating meat\n"
     ]
    }
   ],
   "source": [
    "#multi level inheritance\n",
    "class Animal:\n",
    "    def speak(self):\n",
    "        print(\"Animal speaking\")\n",
    "        pass\n",
    "    \n",
    "class Lion(Animal):\n",
    "    def roar(self):\n",
    "        print(\"Lion is roaring\")\n",
    "        pass\n",
    "    \n",
    "class BabyLion(Lion):\n",
    "    def eat(self):\n",
    "        print(\"Eating meat\")\n",
    "\n",
    "d = BabyLion()\n",
    "d.speak()\n",
    "d.roar()\n",
    "d.eat()"
   ]
  },
  {
   "cell_type": "code",
   "execution_count": 67,
   "id": "28a8f1f4",
   "metadata": {},
   "outputs": [
    {
     "name": "stdout",
     "output_type": "stream",
     "text": [
      "They are eating!\n",
      "They are speaking!\n",
      "They are running!\n"
     ]
    }
   ],
   "source": [
    "class People:\n",
    "    def eat(self):\n",
    "        print(\"They are eating!\")\n",
    "        pass\n",
    "class Group(People):\n",
    "    def speak(self):\n",
    "        print(\"They are speaking!\")\n",
    "class Section(Group):\n",
    "    def run(self):\n",
    "        print(\"They are running!\")\n",
    "        \n",
    "d = Section()\n",
    "d.eat()\n",
    "d.speak()\n",
    "d.run()"
   ]
  },
  {
   "cell_type": "code",
   "execution_count": null,
   "id": "75a7adb4",
   "metadata": {},
   "outputs": [],
   "source": []
  }
 ],
 "metadata": {
  "kernelspec": {
   "display_name": "Python 3 (ipykernel)",
   "language": "python",
   "name": "python3"
  },
  "language_info": {
   "codemirror_mode": {
    "name": "ipython",
    "version": 3
   },
   "file_extension": ".py",
   "mimetype": "text/x-python",
   "name": "python",
   "nbconvert_exporter": "python",
   "pygments_lexer": "ipython3",
   "version": "3.11.5"
  }
 },
 "nbformat": 4,
 "nbformat_minor": 5
}
